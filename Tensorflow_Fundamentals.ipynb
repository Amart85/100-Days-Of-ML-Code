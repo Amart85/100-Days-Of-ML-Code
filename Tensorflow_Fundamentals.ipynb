{
  "cells": [
    {
      "cell_type": "markdown",
      "metadata": {
        "id": "view-in-github",
        "colab_type": "text"
      },
      "source": [
        "<a href=\"https://colab.research.google.com/github/Amart85/100-Days-Of-ML-Code/blob/master/Tensorflow_Fundamentals.ipynb\" target=\"_parent\"><img src=\"https://colab.research.google.com/assets/colab-badge.svg\" alt=\"Open In Colab\"/></a>"
      ]
    },
    {
      "cell_type": "markdown",
      "source": [
        "# General Notes\n",
        "* A tensor is a multi-dimensional array. For eg. A batch of 100 color images of size 32x32 can be represented as a (224, 224, 3, 100) tensor where\n",
        "  * 224, 224 (the first 2 dimensions) are the height and width of the images in pixels.\n",
        "  * 3 is the number of colour channels of the image (red, green blue).\n",
        "  * 100 is the batch size (the number of images a neural network sees at any one time)\n",
        "* Tensors can run on GPUs & TPUs. Numpy arrays can't. \n",
        "- Data types -> [See image](https://raw.githubusercontent.com/mrdbourke/tensorflow-deep-learning/main/images/00-scalar-vector-matrix-tensor.png)\n",
        "    - Scalar → a single number.\n",
        "    - Vector → an array of numbers\n",
        "    - Matrix → a 2-d array of numbers\n",
        "    - Tensor → an n-dimensional array of numbers."
      ],
      "metadata": {
        "id": "Liya6QXCsSSD"
      }
    },
    {
      "cell_type": "code",
      "execution_count": null,
      "metadata": {
        "colab": {
          "base_uri": "https://localhost:8080/"
        },
        "id": "kLWCa85I8icC",
        "outputId": "575b72ad-61ed-4f58-ab81-3503cd5eb53b"
      },
      "outputs": [
        {
          "output_type": "stream",
          "name": "stdout",
          "text": [
            "2.9.2\n"
          ]
        }
      ],
      "source": [
        "# RUN THIS BEFORE YOU RUN ANY OTHER CODE BLOCK\n",
        "# Import tensorflow\n",
        "import tensorflow as tf\n",
        "print(tf.__version__)"
      ]
    },
    {
      "cell_type": "code",
      "execution_count": null,
      "metadata": {
        "colab": {
          "base_uri": "https://localhost:8080/"
        },
        "id": "-ATNbAL49Uos",
        "outputId": "cd9a3f1c-3a76-4214-9ce3-8e891eb1af0e"
      },
      "outputs": [
        {
          "output_type": "stream",
          "name": "stdout",
          "text": [
            "tf.Tensor(7, shape=(), dtype=int32)\n"
          ]
        },
        {
          "output_type": "execute_result",
          "data": {
            "text/plain": [
              "0"
            ]
          },
          "metadata": {},
          "execution_count": 13
        }
      ],
      "source": [
        "# declare a constant scalar\n",
        "scalar = tf.constant(7)\n",
        "print(scalar)\n",
        "# check the number of dimensions\n",
        "scalar.ndim"
      ]
    },
    {
      "cell_type": "code",
      "execution_count": null,
      "metadata": {
        "colab": {
          "base_uri": "https://localhost:8080/"
        },
        "id": "76qnGNB8-T-8",
        "outputId": "3fc03819-1dce-425c-887e-cb08e9cd93de"
      },
      "outputs": [
        {
          "output_type": "stream",
          "name": "stdout",
          "text": [
            "tf.Tensor([10 10], shape=(2,), dtype=int32)\n",
            "1\n"
          ]
        }
      ],
      "source": [
        "# Create a vector\n",
        "vector = tf.constant([10,10])\n",
        "print(vector)\n",
        "print(vector.ndim)"
      ]
    },
    {
      "cell_type": "code",
      "execution_count": null,
      "metadata": {
        "colab": {
          "base_uri": "https://localhost:8080/"
        },
        "id": "DKwaLGbF-5RR",
        "outputId": "efd2b2f3-5e9d-41dd-f9bc-a3638ee7a175"
      },
      "outputs": [
        {
          "output_type": "stream",
          "name": "stdout",
          "text": [
            "tf.Tensor(\n",
            "[[10  7]\n",
            " [ 7 10]], shape=(2, 2), dtype=int32)\n",
            "2\n"
          ]
        }
      ],
      "source": [
        "# Create a matrix\n",
        "matrix = tf.constant([\n",
        "    [10,7],\n",
        "    [7,10]\n",
        "])\n",
        "print(matrix)\n",
        "print(matrix.ndim)"
      ]
    },
    {
      "cell_type": "code",
      "execution_count": null,
      "metadata": {
        "colab": {
          "base_uri": "https://localhost:8080/"
        },
        "id": "I603mSUL_foU",
        "outputId": "8f00c52d-5f1a-46ac-c095-b2916711251d"
      },
      "outputs": [
        {
          "output_type": "stream",
          "name": "stdout",
          "text": [
            "tf.Tensor(\n",
            "[[10.  7.]\n",
            " [ 3.  2.]\n",
            " [ 8.  9.]], shape=(3, 2), dtype=float16)\n",
            "2\n"
          ]
        }
      ],
      "source": [
        "# Custom data type matrix\n",
        "new_matrix = tf.constant([\n",
        "    [10.,7.],\n",
        "    [3.,2.],\n",
        "    [8.,9.]\n",
        "],dtype=tf.float16)\n",
        "print(new_matrix)\n",
        "print(new_matrix.ndim)"
      ]
    },
    {
      "cell_type": "code",
      "execution_count": null,
      "metadata": {
        "colab": {
          "base_uri": "https://localhost:8080/"
        },
        "id": "NooZYKdjBH14",
        "outputId": "0d010b26-984a-4269-ba0c-7679e85037a8"
      },
      "outputs": [
        {
          "output_type": "stream",
          "name": "stdout",
          "text": [
            "tf.Tensor(\n",
            "[[[1 2 3]]\n",
            "\n",
            " [[4 5 6]]\n",
            "\n",
            " [[7 8 9]]], shape=(3, 1, 3), dtype=int32)\n",
            "Dimension 3\n"
          ]
        }
      ],
      "source": [
        "# Create a tensor\n",
        "tensor = tf.constant([\n",
        "    [\n",
        "        [1,2,3]\n",
        "    ],\n",
        "    [\n",
        "        [4,5,6]\n",
        "    ],\n",
        "    [\n",
        "        [7,8,9]\n",
        "    ]\n",
        "])\n",
        "print(tensor)\n",
        "print(\"Dimension\",tensor.ndim)"
      ]
    },
    {
      "cell_type": "code",
      "execution_count": null,
      "metadata": {
        "colab": {
          "base_uri": "https://localhost:8080/"
        },
        "id": "AiXxTaIrGXB8",
        "outputId": "4bdc7cfa-db7e-4b2f-a25e-9a5f08ef927e"
      },
      "outputs": [
        {
          "output_type": "stream",
          "name": "stdout",
          "text": [
            "<tf.Variable 'Variable:0' shape=(3, 1, 3) dtype=int32, numpy=\n",
            "array([[[1, 2, 3]],\n",
            "\n",
            "       [[4, 5, 6]],\n",
            "\n",
            "       [[7, 8, 9]]], dtype=int32)>\n"
          ]
        }
      ],
      "source": [
        "# Creating variable tensors.\n",
        "variable_tensor = tf.Variable([\n",
        "    [\n",
        "        [1,2,3]\n",
        "    ],\n",
        "    [\n",
        "        [4,5,6]\n",
        "    ],\n",
        "    [\n",
        "        [7,8,9]\n",
        "    ]\n",
        "])\n",
        "print(variable_tensor)\n",
        "# print(variable_tensor.ndim)"
      ]
    },
    {
      "cell_type": "code",
      "execution_count": null,
      "metadata": {
        "colab": {
          "base_uri": "https://localhost:8080/"
        },
        "id": "kK6ODSUiSu6N",
        "outputId": "40b94656-c783-49c8-9e32-ee03b6b225a7"
      },
      "outputs": [
        {
          "output_type": "stream",
          "name": "stdout",
          "text": [
            "tf.Tensor(\n",
            "[[-0.7565803  -0.06854702]\n",
            " [ 0.07595026 -1.2573844 ]\n",
            " [-0.23193763 -1.8107855 ]], shape=(3, 2), dtype=float32)\n",
            "tf.Tensor(\n",
            "[[0.7647915  0.03845465]\n",
            " [0.8506975  0.20781887]\n",
            " [0.711869   0.8843919 ]], shape=(3, 2), dtype=float32)\n"
          ]
        }
      ],
      "source": [
        "# Creating random tensors\n",
        "# Tensors of arbitary size with random numbers. \n",
        "seed = tf.random.Generator.from_seed(42)\n",
        "random_1 = seed.normal(shape=(3,2))\n",
        "print(random_1)\n",
        "random_2 = seed.uniform(shape=(3,2))\n",
        "print(random_2)"
      ]
    },
    {
      "cell_type": "code",
      "source": [
        "# Generating Tensors of Zeros and Ones\n",
        "zeros = tf.zeros(shape=(3,3))\n",
        "print(zeros)\n",
        "ones = tf.ones(shape=(4,4))\n",
        "print(ones)"
      ],
      "metadata": {
        "colab": {
          "base_uri": "https://localhost:8080/"
        },
        "id": "5uRysj7DchTV",
        "outputId": "12012f98-82c6-4c5c-a2ec-93048e73f2d0"
      },
      "execution_count": null,
      "outputs": [
        {
          "output_type": "stream",
          "name": "stdout",
          "text": [
            "tf.Tensor(\n",
            "[[0. 0. 0.]\n",
            " [0. 0. 0.]\n",
            " [0. 0. 0.]], shape=(3, 3), dtype=float32)\n",
            "tf.Tensor(\n",
            "[[1. 1. 1. 1.]\n",
            " [1. 1. 1. 1.]\n",
            " [1. 1. 1. 1.]\n",
            " [1. 1. 1. 1.]], shape=(4, 4), dtype=float32)\n"
          ]
        }
      ]
    },
    {
      "cell_type": "code",
      "source": [
        "# Converting Numpy arrays into tensors\n",
        "import numpy as np\n",
        "numpy_arr = np.arange(1,25,dtype=np.int32)\n",
        "print(\"Numpy arr\",numpy_arr)\n",
        "tensor = tf.constant(numpy_arr,shape=[2,4,3])\n",
        "print(\"Tensor\",tensor)"
      ],
      "metadata": {
        "colab": {
          "base_uri": "https://localhost:8080/"
        },
        "id": "RWMLMUMkcySr",
        "outputId": "5a91cb2e-8c58-4ee3-9c73-6000d786f220"
      },
      "execution_count": null,
      "outputs": [
        {
          "output_type": "stream",
          "name": "stdout",
          "text": [
            "Numpy arr [ 1  2  3  4  5  6  7  8  9 10 11 12 13 14 15 16 17 18 19 20 21 22 23 24]\n",
            "Tensor tf.Tensor(\n",
            "[[[ 1  2  3]\n",
            "  [ 4  5  6]\n",
            "  [ 7  8  9]\n",
            "  [10 11 12]]\n",
            "\n",
            " [[13 14 15]\n",
            "  [16 17 18]\n",
            "  [19 20 21]\n",
            "  [22 23 24]]], shape=(2, 4, 3), dtype=int32)\n"
          ]
        }
      ]
    },
    {
      "cell_type": "code",
      "source": [
        "# Getting shape, size and dimensions of a tensor\n",
        "rank4_tensor = tf.zeros([2,3,4,5])\n",
        "print(rank4_tensor)\n",
        "print(\"Size\",tf.size(rank4_tensor))\n",
        "print(\"Shape\",rank4_tensor.shape)\n",
        "print(\"Dimensions\",rank4_tensor.ndim)\n",
        "print(\"Shape of first dimension\",rank4_tensor.shape[0])"
      ],
      "metadata": {
        "colab": {
          "base_uri": "https://localhost:8080/"
        },
        "id": "euTrG83rdPv3",
        "outputId": "d0ea2e52-ae20-466d-a0e7-379bb7e6d4a1"
      },
      "execution_count": null,
      "outputs": [
        {
          "output_type": "stream",
          "name": "stdout",
          "text": [
            "tf.Tensor(\n",
            "[[[[0. 0. 0. 0. 0.]\n",
            "   [0. 0. 0. 0. 0.]\n",
            "   [0. 0. 0. 0. 0.]\n",
            "   [0. 0. 0. 0. 0.]]\n",
            "\n",
            "  [[0. 0. 0. 0. 0.]\n",
            "   [0. 0. 0. 0. 0.]\n",
            "   [0. 0. 0. 0. 0.]\n",
            "   [0. 0. 0. 0. 0.]]\n",
            "\n",
            "  [[0. 0. 0. 0. 0.]\n",
            "   [0. 0. 0. 0. 0.]\n",
            "   [0. 0. 0. 0. 0.]\n",
            "   [0. 0. 0. 0. 0.]]]\n",
            "\n",
            "\n",
            " [[[0. 0. 0. 0. 0.]\n",
            "   [0. 0. 0. 0. 0.]\n",
            "   [0. 0. 0. 0. 0.]\n",
            "   [0. 0. 0. 0. 0.]]\n",
            "\n",
            "  [[0. 0. 0. 0. 0.]\n",
            "   [0. 0. 0. 0. 0.]\n",
            "   [0. 0. 0. 0. 0.]\n",
            "   [0. 0. 0. 0. 0.]]\n",
            "\n",
            "  [[0. 0. 0. 0. 0.]\n",
            "   [0. 0. 0. 0. 0.]\n",
            "   [0. 0. 0. 0. 0.]\n",
            "   [0. 0. 0. 0. 0.]]]], shape=(2, 3, 4, 5), dtype=float32)\n",
            "Size tf.Tensor(120, shape=(), dtype=int32)\n",
            "Shape (2, 3, 4, 5)\n",
            "Dimensions 4\n",
            "Shape of first dimension 2\n"
          ]
        }
      ]
    },
    {
      "cell_type": "code",
      "source": [
        "# Basic operations\n",
        "basic_tensor = tf.constant([[10,7],[2,7]])\n",
        "# Addition\n",
        "print(basic_tensor+10)\n",
        "# Subtraction\n",
        "print(basic_tensor - 100)\n",
        "# Multiplication\n",
        "print(basic_tensor * 10)\n",
        "# Division\n",
        "print(basic_tensor / 10)"
      ],
      "metadata": {
        "id": "r5SjOsyyeFdH",
        "colab": {
          "base_uri": "https://localhost:8080/"
        },
        "outputId": "0dea97e5-2c64-4c4b-963d-9b3446c7c677"
      },
      "execution_count": null,
      "outputs": [
        {
          "output_type": "stream",
          "name": "stdout",
          "text": [
            "tf.Tensor(\n",
            "[[20 17]\n",
            " [12 17]], shape=(2, 2), dtype=int32)\n",
            "tf.Tensor(\n",
            "[[-90 -93]\n",
            " [-98 -93]], shape=(2, 2), dtype=int32)\n",
            "tf.Tensor(\n",
            "[[100  70]\n",
            " [ 20  70]], shape=(2, 2), dtype=int32)\n",
            "tf.Tensor(\n",
            "[[1.  0.7]\n",
            " [0.2 0.7]], shape=(2, 2), dtype=float64)\n"
          ]
        }
      ]
    },
    {
      "cell_type": "code",
      "source": [
        "# Matrix Multiplication\n",
        "# Note: for matrix multiplications, inner dimensions should match.\n",
        "# eg. (3, 5) * (3, 5) won't work but (3, 5) * (5, 3) will work\n",
        "# Final result will have the shape of the outer dimensions. eg. (5, 3) * (3, 5) -> (5, 5)\n",
        "# @ is the symbol used for matrix multiplication in Python. tf.matmul() is recommended for tensors. \n",
        "tensor_011 = tf.constant([[2,2],[4,4]])\n",
        "tensor_012 = tf.constant([[2,2],[4,4]])\n",
        "print(tf.matmul(tensor_011,tensor_012))"
      ],
      "metadata": {
        "colab": {
          "base_uri": "https://localhost:8080/"
        },
        "id": "CsltpWpjyFRd",
        "outputId": "1a3d1df6-ee9e-4d1d-8121-b9310f4b848d"
      },
      "execution_count": null,
      "outputs": [
        {
          "output_type": "stream",
          "name": "stdout",
          "text": [
            "tf.Tensor(\n",
            "[[12 12]\n",
            " [24 24]], shape=(2, 2), dtype=int32)\n"
          ]
        }
      ]
    },
    {
      "cell_type": "code",
      "source": [
        "# Reshape and Transpose\n",
        "tensor_013 = tf.constant([[1,2],[3,4]])\n",
        "\n",
        "# Reshape a tensor to a different dimension\n",
        "print(tf.reshape(tensor_013,[4,1]))\n",
        "\n",
        "# Transpose\n",
        "print(tf.transpose(tensor_013))"
      ],
      "metadata": {
        "colab": {
          "base_uri": "https://localhost:8080/"
        },
        "id": "Fge1g17f0VFJ",
        "outputId": "4812d0b0-6e5e-46a0-d888-9501407e1e68"
      },
      "execution_count": null,
      "outputs": [
        {
          "output_type": "stream",
          "name": "stdout",
          "text": [
            "tf.Tensor(\n",
            "[[1]\n",
            " [2]\n",
            " [3]\n",
            " [4]], shape=(4, 1), dtype=int32)\n",
            "tf.Tensor(\n",
            "[[1 3]\n",
            " [2 4]], shape=(2, 2), dtype=int32)\n"
          ]
        }
      ]
    },
    {
      "cell_type": "code",
      "source": [
        "# Aggregate values and operations\n",
        "tensor_014 = tf.constant([\n",
        "    [1,2,3],\n",
        "    [4,5,6],\n",
        "    [7,8,9]\n",
        "],dtype='float32')\n",
        "\n",
        "print(tf.reduce_min(tensor_014)) # Min\n",
        "print(tf.reduce_max(tensor_014)) # Max\n",
        "print(tf.reduce_mean(tensor_014)) # Mean\n",
        "print(tf.reduce_sum(tensor_014)) # Sum\n",
        "print(tf.math.reduce_std(tensor_014)) # Standard Deviation\n",
        "print(tf.math.reduce_variance(tensor_014)) # Variance\n",
        "print(tf.square(tensor_014)) # Square of every number\n",
        "print(tf.sqrt(tensor_014)) # Square root of every number\n",
        "print(tf.math.log(tensor_014)) # Log of every number"
      ],
      "metadata": {
        "colab": {
          "base_uri": "https://localhost:8080/"
        },
        "id": "quVn3RUn1qub",
        "outputId": "7b7fdaf7-2959-4b57-8cf2-599548d3fc95"
      },
      "execution_count": null,
      "outputs": [
        {
          "output_type": "stream",
          "name": "stdout",
          "text": [
            "tf.Tensor(1.0, shape=(), dtype=float32)\n",
            "tf.Tensor(9.0, shape=(), dtype=float32)\n",
            "tf.Tensor(5.0, shape=(), dtype=float32)\n",
            "tf.Tensor(45.0, shape=(), dtype=float32)\n",
            "tf.Tensor(2.5819888, shape=(), dtype=float32)\n",
            "tf.Tensor(6.6666665, shape=(), dtype=float32)\n",
            "tf.Tensor(\n",
            "[[ 1.  4.  9.]\n",
            " [16. 25. 36.]\n",
            " [49. 64. 81.]], shape=(3, 3), dtype=float32)\n",
            "tf.Tensor(\n",
            "[[1.        1.4142135 1.7320508]\n",
            " [2.        2.236068  2.4494898]\n",
            " [2.6457512 2.828427  3.       ]], shape=(3, 3), dtype=float32)\n",
            "tf.Tensor(\n",
            "[[0.        0.6931472 1.0986123]\n",
            " [1.3862944 1.609438  1.7917595]\n",
            " [1.9459102 2.0794415 2.1972246]], shape=(3, 3), dtype=float32)\n"
          ]
        }
      ]
    },
    {
      "cell_type": "markdown",
      "source": [
        "## One hot encoding\n",
        "* Used to encode data to make it simpler for algorithmns to learn. \n",
        "* eg. a 2d tensor of RGB colours can be represented as [[1,0,0],[0,1,0],[0,0,1]]. Translates to [R, G, B].\n",
        "![alt text](https://miro.medium.com/max/1400/1*ggtP4a5YaRx6l09KQaYOnw.png \"Title\")"
      ],
      "metadata": {
        "id": "73K67POQ5ezF"
      }
    },
    {
      "cell_type": "code",
      "source": [
        "# one hot encoding\n",
        "tensor_015 = [0, 1, 2, 3]\n",
        "tf.one_hot(tensor_015,depth=4)"
      ],
      "metadata": {
        "colab": {
          "base_uri": "https://localhost:8080/"
        },
        "id": "2nY2cPWh3b6X",
        "outputId": "d4af689b-6acb-40b5-c805-bfdb011902a3"
      },
      "execution_count": null,
      "outputs": [
        {
          "output_type": "execute_result",
          "data": {
            "text/plain": [
              "<tf.Tensor: shape=(4, 4), dtype=float32, numpy=\n",
              "array([[1., 0., 0., 0.],\n",
              "       [0., 1., 0., 0.],\n",
              "       [0., 0., 1., 0.],\n",
              "       [0., 0., 0., 1.]], dtype=float32)>"
            ]
          },
          "metadata": {},
          "execution_count": 41
        }
      ]
    },
    {
      "cell_type": "code",
      "source": [
        "# Print available devices\n",
        "tf.config.list_physical_devices()"
      ],
      "metadata": {
        "colab": {
          "base_uri": "https://localhost:8080/"
        },
        "id": "yp1WAL4MFzPe",
        "outputId": "6552b9c3-5a4d-48e8-afa7-d33726e470b6"
      },
      "execution_count": null,
      "outputs": [
        {
          "output_type": "execute_result",
          "data": {
            "text/plain": [
              "[PhysicalDevice(name='/physical_device:CPU:0', device_type='CPU')]"
            ]
          },
          "metadata": {},
          "execution_count": 3
        }
      ]
    }
  ],
  "metadata": {
    "colab": {
      "provenance": [],
      "include_colab_link": true
    },
    "kernelspec": {
      "display_name": "Python 3",
      "name": "python3"
    },
    "language_info": {
      "name": "python"
    },
    "gpuClass": "standard"
  },
  "nbformat": 4,
  "nbformat_minor": 0
}